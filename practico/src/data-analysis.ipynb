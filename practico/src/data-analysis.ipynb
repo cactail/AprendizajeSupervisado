{
 "cells": [
  {
   "cell_type": "markdown",
   "metadata": {},
   "source": [
    "# Analisis del dataset"
   ]
  },
  {
   "cell_type": "code",
   "execution_count": 4,
   "metadata": {},
   "outputs": [],
   "source": [
    "# Import the required packages\n",
    "import os\n",
    "\n",
    "import numpy as np\n",
    "import pandas as pd\n",
    "import matplotlib.pyplot as plt\n",
    "import seaborn as sb"
   ]
  },
  {
   "cell_type": "markdown",
   "metadata": {},
   "source": [
    "## Read Data"
   ]
  },
  {
   "cell_type": "code",
   "execution_count": 5,
   "metadata": {},
   "outputs": [],
   "source": [
    "train_df = pd.read_csv(\"../data/travel_insurance_prediction_train.csv\")\n",
    "test_df = pd.read_csv(\"../data/travel_insurance_prediction_test.csv\")"
   ]
  },
  {
   "cell_type": "markdown",
   "metadata": {},
   "source": [
    "## Explore the Data\n",
    "\n",
    "Is your task to explore the data, do analysis over it and get insights, then use those insights to better pick a model. **Solo enfocandose en el conjunto de entrenamiento**"
   ]
  },
  {
   "cell_type": "code",
   "execution_count": 6,
   "metadata": {},
   "outputs": [
    {
     "data": {
      "text/html": [
       "<div>\n",
       "<style scoped>\n",
       "    .dataframe tbody tr th:only-of-type {\n",
       "        vertical-align: middle;\n",
       "    }\n",
       "\n",
       "    .dataframe tbody tr th {\n",
       "        vertical-align: top;\n",
       "    }\n",
       "\n",
       "    .dataframe thead th {\n",
       "        text-align: right;\n",
       "    }\n",
       "</style>\n",
       "<table border=\"1\" class=\"dataframe\">\n",
       "  <thead>\n",
       "    <tr style=\"text-align: right;\">\n",
       "      <th></th>\n",
       "      <th>Customer</th>\n",
       "      <th>Age</th>\n",
       "      <th>Employment Type</th>\n",
       "      <th>GraduateOrNot</th>\n",
       "      <th>AnnualIncome</th>\n",
       "      <th>FamilyMembers</th>\n",
       "      <th>ChronicDiseases</th>\n",
       "      <th>FrequentFlyer</th>\n",
       "      <th>EverTravelledAbroad</th>\n",
       "      <th>TravelInsurance</th>\n",
       "    </tr>\n",
       "  </thead>\n",
       "  <tbody>\n",
       "    <tr>\n",
       "      <th>0</th>\n",
       "      <td>1</td>\n",
       "      <td>33</td>\n",
       "      <td>Private Sector/Self Employed</td>\n",
       "      <td>Yes</td>\n",
       "      <td>550000</td>\n",
       "      <td>6</td>\n",
       "      <td>0</td>\n",
       "      <td>No</td>\n",
       "      <td>No</td>\n",
       "      <td>1</td>\n",
       "    </tr>\n",
       "    <tr>\n",
       "      <th>1</th>\n",
       "      <td>2</td>\n",
       "      <td>28</td>\n",
       "      <td>Private Sector/Self Employed</td>\n",
       "      <td>Yes</td>\n",
       "      <td>800000</td>\n",
       "      <td>7</td>\n",
       "      <td>0</td>\n",
       "      <td>Yes</td>\n",
       "      <td>No</td>\n",
       "      <td>0</td>\n",
       "    </tr>\n",
       "    <tr>\n",
       "      <th>2</th>\n",
       "      <td>3</td>\n",
       "      <td>31</td>\n",
       "      <td>Private Sector/Self Employed</td>\n",
       "      <td>Yes</td>\n",
       "      <td>1250000</td>\n",
       "      <td>4</td>\n",
       "      <td>0</td>\n",
       "      <td>No</td>\n",
       "      <td>No</td>\n",
       "      <td>0</td>\n",
       "    </tr>\n",
       "    <tr>\n",
       "      <th>3</th>\n",
       "      <td>4</td>\n",
       "      <td>31</td>\n",
       "      <td>Government Sector</td>\n",
       "      <td>No</td>\n",
       "      <td>300000</td>\n",
       "      <td>7</td>\n",
       "      <td>0</td>\n",
       "      <td>No</td>\n",
       "      <td>No</td>\n",
       "      <td>0</td>\n",
       "    </tr>\n",
       "    <tr>\n",
       "      <th>4</th>\n",
       "      <td>5</td>\n",
       "      <td>28</td>\n",
       "      <td>Private Sector/Self Employed</td>\n",
       "      <td>Yes</td>\n",
       "      <td>1250000</td>\n",
       "      <td>3</td>\n",
       "      <td>0</td>\n",
       "      <td>No</td>\n",
       "      <td>No</td>\n",
       "      <td>0</td>\n",
       "    </tr>\n",
       "  </tbody>\n",
       "</table>\n",
       "</div>"
      ],
      "text/plain": [
       "   Customer  Age               Employment Type GraduateOrNot  AnnualIncome  \\\n",
       "0         1   33  Private Sector/Self Employed           Yes        550000   \n",
       "1         2   28  Private Sector/Self Employed           Yes        800000   \n",
       "2         3   31  Private Sector/Self Employed           Yes       1250000   \n",
       "3         4   31             Government Sector            No        300000   \n",
       "4         5   28  Private Sector/Self Employed           Yes       1250000   \n",
       "\n",
       "   FamilyMembers  ChronicDiseases FrequentFlyer EverTravelledAbroad  \\\n",
       "0              6                0            No                  No   \n",
       "1              7                0           Yes                  No   \n",
       "2              4                0            No                  No   \n",
       "3              7                0            No                  No   \n",
       "4              3                0            No                  No   \n",
       "\n",
       "   TravelInsurance  \n",
       "0                1  \n",
       "1                0  \n",
       "2                0  \n",
       "3                0  \n",
       "4                0  "
      ]
     },
     "execution_count": 6,
     "metadata": {},
     "output_type": "execute_result"
    }
   ],
   "source": [
    "train_df.head()"
   ]
  },
  {
   "cell_type": "code",
   "execution_count": 7,
   "metadata": {},
   "outputs": [
    {
     "name": "stdout",
     "output_type": "stream",
     "text": [
      "> getting unique values for column: Age \n",
      "[33 28 31 25 26 35 27 34 32 29 30] \n",
      "\n",
      "> getting unique values for column: Employment Type \n",
      "['Private Sector/Self Employed' 'Government Sector'] \n",
      "\n",
      "> getting unique values for column: GraduateOrNot \n",
      "['Yes' 'No'] \n",
      "\n",
      "> getting unique values for column: AnnualIncome \n",
      "[ 550000  800000 1250000  300000 1350000  400000  500000 1150000  750000\n",
      "  850000 1450000  700000 1050000  350000 1100000  900000 1200000 1300000\n",
      " 1400000 1000000 1500000  450000  600000  650000 1750000 1700000 1550000\n",
      "  950000 1800000 1650000] \n",
      "\n",
      "> getting unique values for column: FamilyMembers \n",
      "[6 7 4 3 5 2 8 9] \n",
      "\n",
      "> getting unique values for column: ChronicDiseases \n",
      "[0 1] \n",
      "\n",
      "> getting unique values for column: FrequentFlyer \n",
      "['No' 'Yes'] \n",
      "\n",
      "> getting unique values for column: EverTravelledAbroad \n",
      "['No' 'Yes'] \n",
      "\n",
      "> getting unique values for column: TravelInsurance \n",
      "[1 0] \n",
      "\n"
     ]
    }
   ],
   "source": [
    "columns = np.delete(train_df.columns.to_numpy(), 0)\n",
    " \n",
    "for column in columns:\n",
    "    print(f'> getting unique values for column: {column} ')\n",
    "    print(train_df[column].unique(), '\\n')"
   ]
  },
  {
   "cell_type": "code",
   "execution_count": 8,
   "metadata": {},
   "outputs": [
    {
     "name": "stdout",
     "output_type": "stream",
     "text": [
      "<class 'pandas.core.frame.DataFrame'>\n",
      "RangeIndex: 1490 entries, 0 to 1489\n",
      "Data columns (total 10 columns):\n",
      " #   Column               Non-Null Count  Dtype \n",
      "---  ------               --------------  ----- \n",
      " 0   Customer             1490 non-null   int64 \n",
      " 1   Age                  1490 non-null   int64 \n",
      " 2   Employment Type      1490 non-null   object\n",
      " 3   GraduateOrNot        1490 non-null   object\n",
      " 4   AnnualIncome         1490 non-null   int64 \n",
      " 5   FamilyMembers        1490 non-null   int64 \n",
      " 6   ChronicDiseases      1490 non-null   int64 \n",
      " 7   FrequentFlyer        1490 non-null   object\n",
      " 8   EverTravelledAbroad  1490 non-null   object\n",
      " 9   TravelInsurance      1490 non-null   int64 \n",
      "dtypes: int64(6), object(4)\n",
      "memory usage: 116.5+ KB\n"
     ]
    }
   ],
   "source": [
    "train_df.info()"
   ]
  },
  {
   "cell_type": "markdown",
   "metadata": {},
   "source": [
    "**Observaciones**: Podemos notar que, aunque `EmploymentType`, `GraduateOrNot` `FrequentFlyer` y `EverTravelledAbroad` son strings, pueden ser tranquilamente transformadas a variables booleanas (categorica con solo 2 categorias)."
   ]
  },
  {
   "cell_type": "code",
   "execution_count": 9,
   "metadata": {},
   "outputs": [],
   "source": [
    "# Defining columns by variable type\n",
    "\n",
    "categorical_columns = ['Employment Type', 'GraduateOrNot', 'ChronicDiseases', 'FrequentFlyer', 'EverTravelledAbroad']\n",
    "numeric_columns = ['Age', 'AnnualIncome', 'FamilyMembers']"
   ]
  },
  {
   "cell_type": "markdown",
   "metadata": {},
   "source": [
    "## Variables categoricas"
   ]
  },
  {
   "cell_type": "code",
   "execution_count": 10,
   "metadata": {},
   "outputs": [
    {
     "data": {
      "text/html": [
       "<div>\n",
       "<style scoped>\n",
       "    .dataframe tbody tr th:only-of-type {\n",
       "        vertical-align: middle;\n",
       "    }\n",
       "\n",
       "    .dataframe tbody tr th {\n",
       "        vertical-align: top;\n",
       "    }\n",
       "\n",
       "    .dataframe thead th {\n",
       "        text-align: right;\n",
       "    }\n",
       "</style>\n",
       "<table border=\"1\" class=\"dataframe\">\n",
       "  <thead>\n",
       "    <tr style=\"text-align: right;\">\n",
       "      <th></th>\n",
       "      <th>Employment Type</th>\n",
       "      <th>GraduateOrNot</th>\n",
       "      <th>ChronicDiseases</th>\n",
       "      <th>FrequentFlyer</th>\n",
       "      <th>EverTravelledAbroad</th>\n",
       "    </tr>\n",
       "  </thead>\n",
       "  <tbody>\n",
       "    <tr>\n",
       "      <th>count</th>\n",
       "      <td>1490</td>\n",
       "      <td>1490</td>\n",
       "      <td>1490</td>\n",
       "      <td>1490</td>\n",
       "      <td>1490</td>\n",
       "    </tr>\n",
       "    <tr>\n",
       "      <th>unique</th>\n",
       "      <td>2</td>\n",
       "      <td>2</td>\n",
       "      <td>2</td>\n",
       "      <td>2</td>\n",
       "      <td>2</td>\n",
       "    </tr>\n",
       "    <tr>\n",
       "      <th>top</th>\n",
       "      <td>Private Sector/Self Employed</td>\n",
       "      <td>Yes</td>\n",
       "      <td>0</td>\n",
       "      <td>No</td>\n",
       "      <td>No</td>\n",
       "    </tr>\n",
       "    <tr>\n",
       "      <th>freq</th>\n",
       "      <td>1057</td>\n",
       "      <td>1268</td>\n",
       "      <td>1079</td>\n",
       "      <td>1173</td>\n",
       "      <td>1202</td>\n",
       "    </tr>\n",
       "  </tbody>\n",
       "</table>\n",
       "</div>"
      ],
      "text/plain": [
       "                     Employment Type GraduateOrNot  ChronicDiseases  \\\n",
       "count                           1490          1490             1490   \n",
       "unique                             2             2                2   \n",
       "top     Private Sector/Self Employed           Yes                0   \n",
       "freq                            1057          1268             1079   \n",
       "\n",
       "       FrequentFlyer EverTravelledAbroad  \n",
       "count           1490                1490  \n",
       "unique             2                   2  \n",
       "top               No                  No  \n",
       "freq            1173                1202  "
      ]
     },
     "execution_count": 10,
     "metadata": {},
     "output_type": "execute_result"
    }
   ],
   "source": [
    "# Converting 'ChronicDiseases' to categorical\n",
    "train_df['ChronicDiseases'] = train_df['ChronicDiseases'].astype('category')\n",
    "train_df[categorical_columns].describe()"
   ]
  },
  {
   "cell_type": "code",
   "execution_count": 14,
   "metadata": {
    "tags": []
   },
   "outputs": [
    {
     "data": {
      "image/png": "[encoded data removed]",
      "text/plain": [
       "<Figure size 1080x1440 with 6 Axes>"
      ]
     },
     "metadata": {},
     "output_type": "display_data"
    }
   ],
   "source": [
    "rows = 3\n",
    "cols = 2\n",
    "\n",
    "fig, axes = plt.subplots(rows, cols, figsize=(15,20))\n",
    "row_index, col_index = 0,0\n",
    "\n",
    "sb.set_theme(style=\"darkgrid\", palette=\"pastel\")\n",
    "for i, feature in enumerate(categorical_columns):\n",
    "    sb.countplot(x=feature, data=train_df, ax=axes[row_index][col_index])\n",
    "    col_index += 1\n",
    "    if (col_index == 2):\n",
    "        col_index = 0\n",
    "        row_index +=1 "
   ]
  },
  {
   "cell_type": "markdown",
   "metadata": {},
   "source": [
    "## Variables numericas"
   ]
  },
  {
   "cell_type": "code",
   "execution_count": 28,
   "metadata": {},
   "outputs": [
    {
     "data": {
      "image/png": "[encoded data removed]",
      "text/plain": [
       "<Figure size 360x360 with 1 Axes>"
      ]
     },
     "metadata": {},
     "output_type": "display_data"
    },
    {
     "data": {
      "image/png": "[encoded data removed]",
      "text/plain": [
       "<Figure size 360x360 with 1 Axes>"
      ]
     },
     "metadata": {},
     "output_type": "display_data"
    },
    {
     "data": {
      "image/png": "[encoded data removed]",
      "text/plain": [
       "<Figure size 360x360 with 1 Axes>"
      ]
     },
     "metadata": {},
     "output_type": "display_data"
    },
    {
     "data": {
      "image/png": "[encoded data removed]",
      "text/plain": [
       "<Figure size 360x360 with 1 Axes>"
      ]
     },
     "metadata": {},
     "output_type": "display_data"
    }
   ],
   "source": [
    "numeric_columns.append('TravelInsurance')\n",
    "numeric_columns = list(set(numeric_columns))\n",
    "\n",
    "for column in numeric_columns:\n",
    "    sb.displot(train_df[column].values, color='lightgreen')\n",
    "    plt.title(column)"
   ]
  },
  {
   "cell_type": "markdown",
   "metadata": {},
   "source": [
    "## Correlacion: variables numericas"
   ]
  },
  {
   "cell_type": "code",
   "execution_count": 31,
   "metadata": {},
   "outputs": [
    {
     "data": {
      "text/html": [
       "<div>\n",
       "<style scoped>\n",
       "    .dataframe tbody tr th:only-of-type {\n",
       "        vertical-align: middle;\n",
       "    }\n",
       "\n",
       "    .dataframe tbody tr th {\n",
       "        vertical-align: top;\n",
       "    }\n",
       "\n",
       "    .dataframe thead th {\n",
       "        text-align: right;\n",
       "    }\n",
       "</style>\n",
       "<table border=\"1\" class=\"dataframe\">\n",
       "  <thead>\n",
       "    <tr style=\"text-align: right;\">\n",
       "      <th></th>\n",
       "      <th>AnnualIncome</th>\n",
       "      <th>FamilyMembers</th>\n",
       "      <th>TravelInsurance</th>\n",
       "      <th>Age</th>\n",
       "    </tr>\n",
       "  </thead>\n",
       "  <tbody>\n",
       "    <tr>\n",
       "      <th>AnnualIncome</th>\n",
       "      <td>1.000000</td>\n",
       "      <td>-0.018384</td>\n",
       "      <td>0.395549</td>\n",
       "      <td>-0.016513</td>\n",
       "    </tr>\n",
       "    <tr>\n",
       "      <th>FamilyMembers</th>\n",
       "      <td>-0.018384</td>\n",
       "      <td>1.000000</td>\n",
       "      <td>0.081617</td>\n",
       "      <td>0.004190</td>\n",
       "    </tr>\n",
       "    <tr>\n",
       "      <th>TravelInsurance</th>\n",
       "      <td>0.395549</td>\n",
       "      <td>0.081617</td>\n",
       "      <td>1.000000</td>\n",
       "      <td>0.068138</td>\n",
       "    </tr>\n",
       "    <tr>\n",
       "      <th>Age</th>\n",
       "      <td>-0.016513</td>\n",
       "      <td>0.004190</td>\n",
       "      <td>0.068138</td>\n",
       "      <td>1.000000</td>\n",
       "    </tr>\n",
       "  </tbody>\n",
       "</table>\n",
       "</div>"
      ],
      "text/plain": [
       "                 AnnualIncome  FamilyMembers  TravelInsurance       Age\n",
       "AnnualIncome         1.000000      -0.018384         0.395549 -0.016513\n",
       "FamilyMembers       -0.018384       1.000000         0.081617  0.004190\n",
       "TravelInsurance      0.395549       0.081617         1.000000  0.068138\n",
       "Age                 -0.016513       0.004190         0.068138  1.000000"
      ]
     },
     "execution_count": 31,
     "metadata": {},
     "output_type": "execute_result"
    }
   ],
   "source": [
    "numeric_columns.append('TravelInsurance')\n",
    "numeric_plus_target = set(numeric_columns)\n",
    "\n",
    "train_numeric = train_df[list(numeric_plus_target)]\n",
    "correlation_num= train_numeric.corr() \n",
    "correlation_num"
   ]
  },
  {
   "cell_type": "code",
   "execution_count": 32,
   "metadata": {},
   "outputs": [
    {
     "data": {
      "image/png": "[encoded data removed]",
      "text/plain": [
       "<Figure size 432x288 with 2 Axes>"
      ]
     },
     "metadata": {},
     "output_type": "display_data"
    }
   ],
   "source": [
    "sb.heatmap(correlation_num, annot=True);"
   ]
  },
  {
   "cell_type": "markdown",
   "metadata": {},
   "source": [
    "### Conteo de Seguros por variable `FamilyMembers`"
   ]
  },
  {
   "cell_type": "code",
   "execution_count": 15,
   "metadata": {},
   "outputs": [
    {
     "name": "stderr",
     "output_type": "stream",
     "text": [
      "/home/cactus/.anaconda3/envs/diplodatos/lib/python3.8/site-packages/seaborn/_decorators.py:36: FutureWarning: Pass the following variable as a keyword arg: x. From version 0.12, the only valid positional argument will be `data`, and passing other arguments without an explicit keyword will result in an error or misinterpretation.\n",
      "  warnings.warn(\n"
     ]
    },
    {
     "data": {
      "text/plain": [
       "<AxesSubplot:xlabel='FamilyMembers', ylabel='count'>"
      ]
     },
     "execution_count": 15,
     "metadata": {},
     "output_type": "execute_result"
    },
    {
     "data": {
      "image/png": "[encoded data removed]",
      "text/plain": [
       "<Figure size 432x288 with 1 Axes>"
      ]
     },
     "metadata": {},
     "output_type": "display_data"
    }
   ],
   "source": [
    "## poner codigo aqui\n",
    "sb.countplot('FamilyMembers', hue='TravelInsurance', data=train_df)\n"
   ]
  },
  {
   "cell_type": "markdown",
   "metadata": {},
   "source": [
    "**Observaciones** Se puede notar que en los casos con 3, 4 y 5 miembros la contratacion del seguro es casi una relacion 2 a 1."
   ]
  },
  {
   "cell_type": "markdown",
   "metadata": {},
   "source": [
    "## Baseline\n",
    "\n",
    "In this section we present a baseline based on a decision tree classifier.\n",
    "\n",
    "Many of the attributes are binary, there are a couple of numeric attributes, we might be able to one-hot (e.g. family members), or event discretize (age and anual income), this will come more clearly after the EDA."
   ]
  },
  {
   "cell_type": "code",
   "execution_count": 42,
   "metadata": {},
   "outputs": [],
   "source": [
    "from sklearn.compose import make_column_transformer\n",
    "from sklearn.metrics import classification_report\n",
    "from sklearn.model_selection import GridSearchCV\n",
    "from sklearn.preprocessing import KBinsDiscretizer, OneHotEncoder\n",
    "from sklearn.tree import DecisionTreeClassifier"
   ]
  },
  {
   "cell_type": "markdown",
   "metadata": {},
   "source": [
    "### Transform the columns into features\n",
    "\n",
    "First we need to transform the columns into features. The type of features we use will have a direct impact on the final result. In this example we decided to discretize some numeric features and make a one hot encoding of others. The number of bins, what we use as a one hot encoding, etc, is all up to you to try it out."
   ]
  },
  {
   "cell_type": "code",
   "execution_count": 43,
   "metadata": {},
   "outputs": [],
   "source": [
    "transformer = make_column_transformer(\n",
    "    (KBinsDiscretizer(n_bins=5, encode=\"ordinal\", strategy=\"quantile\"), [\"Age\", \"AnnualIncome\"]),\n",
    "    (OneHotEncoder(categories=\"auto\", dtype=\"int\", handle_unknown=\"ignore\"),\n",
    "     [\"Employment Type\", \"GraduateOrNot\", \"FamilyMembers\", \"FrequentFlyer\", \"EverTravelledAbroad\"]),\n",
    "    remainder=\"passthrough\")"
   ]
  },
  {
   "cell_type": "markdown",
   "metadata": {},
   "source": [
    "We transform the train and test data. In order to avoid overfitting is better to remove the `Customer` column and we don't want the `TravelInsurance` column as part of the attributes either."
   ]
  },
  {
   "cell_type": "code",
   "execution_count": 47,
   "metadata": {},
   "outputs": [
    {
     "name": "stdout",
     "output_type": "stream",
     "text": [
      "<class 'numpy.ndarray'>\n"
     ]
    }
   ],
   "source": [
    "# The data for training the model\n",
    "X_train = transformer.fit_transform(train_df.drop(columns=[\"Customer\", \"TravelInsurance\"]))\n",
    "y_train = train_df[\"TravelInsurance\"].values\n",
    "\n",
    "print(type(X_train))\n",
    "# The test data is only for generating the submission\n",
    "X_test = transformer.transform(test_df.drop(columns=[\"Customer\"]))"
   ]
  },
  {
   "cell_type": "markdown",
   "metadata": {},
   "source": [
    "### Grid Search\n",
    "\n",
    "We do a Grid Search for the Decision Tree (this can be replaced by a randomized search if the model is too complex)."
   ]
  },
  {
   "cell_type": "code",
   "execution_count": 13,
   "metadata": {},
   "outputs": [
    {
     "data": {
      "text/plain": [
       "DecisionTreeClassifier(criterion='entropy', max_depth=10, min_samples_leaf=5,\n",
       "                       random_state=42)"
      ]
     },
     "execution_count": 13,
     "metadata": {},
     "output_type": "execute_result"
    }
   ],
   "source": [
    "search_params = {\n",
    "    'criterion': ['gini', 'entropy'],\n",
    "    'min_samples_leaf': [1, 2, 5],\n",
    "    'max_depth': [3, 6, 10]\n",
    "}\n",
    "tree = DecisionTreeClassifier(random_state=42)\n",
    "tree_clf = GridSearchCV(tree, search_params, cv=5, scoring='f1', n_jobs=-1)\n",
    "tree_clf.fit(X_train, y_train)\n",
    "\n",
    "best_tree_clf = tree_clf.best_estimator_\n"
   ]
  },
  {
   "cell_type": "markdown",
   "metadata": {},
   "source": [
    "### Check Results\n",
    "\n",
    "We can print the results of the best estimator found on the whole training set (we could also set apart a validation set if we find it useful)."
   ]
  },
  {
   "cell_type": "code",
   "execution_count": 14,
   "metadata": {},
   "outputs": [
    {
     "name": "stdout",
     "output_type": "stream",
     "text": [
      "              precision    recall  f1-score   support\n",
      "\n",
      "           0       0.83      0.94      0.88       958\n",
      "           1       0.86      0.66      0.75       532\n",
      "\n",
      "    accuracy                           0.84      1490\n",
      "   macro avg       0.85      0.80      0.82      1490\n",
      "weighted avg       0.84      0.84      0.84      1490\n",
      "\n"
     ]
    }
   ],
   "source": [
    "print(classification_report(y_train, best_tree_clf.predict(X_train)))"
   ]
  },
  {
   "cell_type": "markdown",
   "metadata": {},
   "source": [
    "## Generate the output\n",
    "\n",
    "The last thing we do is generating a file that should be *submitted* on kaggle"
   ]
  },
  {
   "cell_type": "code",
   "execution_count": 16,
   "metadata": {},
   "outputs": [],
   "source": [
    "test_id = test_df[\"Customer\"]\n",
    "test_pred = best_tree_clf.predict(X_test)\n",
    "\n",
    "submission = pd.DataFrame(list(zip(test_id, test_pred)), columns=[\"Customer\", \"TravelInsurance\"])\n",
    "submission.to_csv(\"../data/travel_insurance_submission.csv\", header=True, index=False)"
   ]
  }
 ],
 "metadata": {
  "kernelspec": {
   "display_name": "Python [conda env:diplodatos] *",
   "language": "python",
   "name": "conda-env-diplodatos-py"
  },
  "language_info": {
   "codemirror_mode": {
    "name": "ipython",
    "version": 3
   },
   "file_extension": ".py",
   "mimetype": "text/x-python",
   "name": "python",
   "nbconvert_exporter": "python",
   "pygments_lexer": "ipython3",
   "version": "3.8.8"
  }
 },
 "nbformat": 4,
 "nbformat_minor": 4
}
